{
 "cells": [
  {
   "cell_type": "markdown",
   "metadata": {},
   "source": [
    "<a href=\"https://colab.research.google.com/github/Technical-Debt-Large-Scale/proposal/blob/main/python/analysis/generate_html2.ipynb\" target=\"_parent\"><img src=\"https://colab.research.google.com/assets/colab-badge.svg\" alt=\"Open In Colab\"/></a>"
   ]
  },
  {
   "cell_type": "markdown",
   "metadata": {},
   "source": [
    "# Configuração"
   ]
  },
  {
   "cell_type": "code",
   "execution_count": null,
   "metadata": {},
   "outputs": [],
   "source": [
    "!git clone https://github.com/Technical-Debt-Large-Scale/proposal.git"
   ]
  },
  {
   "cell_type": "code",
   "execution_count": 2,
   "metadata": {},
   "outputs": [],
   "source": [
    "import os\n",
    "import pandas as pd\n",
    "\n",
    "pd.set_option('display.max_colwidth', 500)\n",
    "file_xls_to_scan = 'proposal/xls/mergedallpubliblished.xlsx'"
   ]
  },
  {
   "cell_type": "markdown",
   "metadata": {},
   "source": [
    "# Funções de Apoio"
   ]
  },
  {
   "cell_type": "code",
   "execution_count": 1,
   "metadata": {},
   "outputs": [],
   "source": [
    "def create_html_file(arquivo_html, titulo, df_data):\n",
    "    print(f'Criando o arquivo {arquivo_html}')\n",
    "    try: \n",
    "        with open(arquivo_html, 'w', encoding='utf-8') as file_html:\n",
    "            file_html.write('<html>')\n",
    "            file_html.write('<head>')\n",
    "            file_html.write('<meta charset=\"utf-8\">')\n",
    "            file_html.write(f'<title>{titulo}</title>')\n",
    "            file_html.write('</head>')\n",
    "            file_html.write('<body>')\n",
    "            for index, row in df_data.iterrows():\n",
    "                title = '<h2>Título ' + str(index+1) + ': ' + row['title'] + '</h2>'\n",
    "                file_html.write(title)\n",
    "                authors = '<h3>Autores: ' + row['list_authors'] + '</h3>'\n",
    "                file_html.write(authors)\n",
    "                year = str(row['year'])\n",
    "                year = '<h4>Ano: ' + year +  '</h4>'\n",
    "                file_html.write(year)\n",
    "                abstract = '<p>' + str(row['abstract']) + '</p>'\n",
    "                file_html.write(abstract)\n",
    "                file_html.write('<br>')\n",
    "                if row['link'] is not None:\n",
    "                  link = '<a href=\"' + str(row['link']) + '\">link</a>'\n",
    "                else:\n",
    "                    link = ''\n",
    "                file_html.write(link)\n",
    "                file_html.write('<br>')\n",
    "            file_html.write('</body>')\n",
    "            file_html.write('</html>')\n",
    "            print(f'Arquivo {arquivo_html} criado com sucesso!')\n",
    "    except Exception as e: \n",
    "        print(f'Erro {e} ao criar o arquivo {arquivo_html}')"
   ]
  },
  {
   "cell_type": "markdown",
   "metadata": {},
   "source": [
    "# Leitura dos dados"
   ]
  },
  {
   "cell_type": "code",
   "execution_count": null,
   "metadata": {},
   "outputs": [],
   "source": [
    "!pip install --upgrade xlrd"
   ]
  },
  {
   "cell_type": "code",
   "execution_count": null,
   "metadata": {},
   "outputs": [],
   "source": [
    "df_my_xls_data = pd.read_excel(file_xls_to_scan)"
   ]
  },
  {
   "cell_type": "code",
   "execution_count": null,
   "metadata": {},
   "outputs": [],
   "source": [
    "df_data = df_my_xls_data\n",
    "df_bib_sort_by_year = df_data.copy()\n",
    "\n",
    "df_bib_sort_by_year['year'] = pd.to_numeric(df_bib_sort_by_year['year'])\n",
    "df_bib_sort_by_year = df_bib_sort_by_year.sort_values('year', ascending=False)\n",
    "\n",
    "df_data = df_bib_sort_by_year.copy()"
   ]
  },
  {
   "cell_type": "code",
   "execution_count": null,
   "metadata": {},
   "outputs": [],
   "source": [
    "df_data.info()"
   ]
  },
  {
   "cell_type": "code",
   "execution_count": null,
   "metadata": {},
   "outputs": [],
   "source": [
    "df_data[['year', 'title', 'list_authors']].head(3)"
   ]
  },
  {
   "cell_type": "markdown",
   "metadata": {},
   "source": [
    "# Gera arquivo html"
   ]
  },
  {
   "cell_type": "code",
   "execution_count": null,
   "metadata": {},
   "outputs": [],
   "source": [
    "create_html_file(arquivo_html='proposal/html/all_published.html', titulo='Lista de papers referenciados', df_data=df_data)"
   ]
  }
 ],
 "metadata": {
  "interpreter": {
   "hash": "58bc13ec4dd135858b8220102d0ad3358f57eb64d131366ec25c4d4365eacf63"
  },
  "kernelspec": {
   "display_name": "Python 3.6.3 64-bit",
   "language": "python",
   "name": "python3"
  },
  "language_info": {
   "codemirror_mode": {
    "name": "ipython",
    "version": 3
   },
   "file_extension": ".py",
   "mimetype": "text/x-python",
   "name": "python",
   "nbconvert_exporter": "python",
   "pygments_lexer": "ipython3",
   "version": "3.6.3"
  },
  "orig_nbformat": 2
 },
 "nbformat": 4,
 "nbformat_minor": 2
}
