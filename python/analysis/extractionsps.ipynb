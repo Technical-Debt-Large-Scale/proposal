{
 "metadata": {
  "language_info": {
   "codemirror_mode": {
    "name": "ipython",
    "version": 3
   },
   "file_extension": ".py",
   "mimetype": "text/x-python",
   "name": "python",
   "nbconvert_exporter": "python",
   "pygments_lexer": "ipython3",
   "version": "3.6.3"
  },
  "orig_nbformat": 2,
  "kernelspec": {
   "name": "python363jvsc74a57bd005ece30799c2dcdac4c13b3af20453da19de8df0d9a1de52cff7e0b6e1e82bdd",
   "display_name": "Python 3.6.3 64-bit ('3.6')"
  }
 },
 "nbformat": 4,
 "nbformat_minor": 2,
 "cells": [
  {
   "cell_type": "code",
   "execution_count": 9,
   "metadata": {},
   "outputs": [],
   "source": [
    "import os\n",
    "import sys\n",
    "nb_dir = os.path.split(os.getcwd())[0]\n",
    "if nb_dir not in sys.path:\n",
    "    sys.path.append(nb_dir)\n",
    "\n",
    "import pandas as pd\n",
    "import util.utilities as util\n",
    "from pybtex.database import parse_file"
   ]
  },
  {
   "cell_type": "code",
   "execution_count": 10,
   "metadata": {
    "tags": []
   },
   "outputs": [],
   "source": [
    "bib_data = parse_file('../../bib/sps.bib')"
   ]
  },
  {
   "cell_type": "code",
   "execution_count": 11,
   "metadata": {
    "tags": []
   },
   "outputs": [
    {
     "output_type": "stream",
     "name": "stdout",
     "text": [
      "1, perez2019proposed, 2019, [\"Boris P{\\\\'e}rez\", \"Dar{\\\\'\\\\i}o Correal\", \"Hern{\\\\'a}n Astudillo\"], A proposed model-driven approach to manage architectural technical debt life cycle, None\n---\n2, martini2018semi, 2018, ['Antonio Martini', 'Erik Sikander', 'Niel Madlani'], A semi-automated framework for the identification and estimation of architectural technical debt: A comparative case-study on the modularization of a software component, None\n---\n3, roveda2018towards, 2018, ['Riccardo Roveda', 'Francesca Fontana', 'Ilaria Pigazzini', 'Marco Zanoni'], Towards an architectural debt index, None\n---\n4, snipes2018case, 2018, ['Will Snipes', 'Sunil Karlekar', 'Ran Mo'], A Case Study of the Effects of Architecture Debt on Software Evolution Effort, None\n---\n5, nayebi2019longitudinal, 2019, ['Maleknaz Nayebi', 'Yuanfang Cai', 'Rick Kazman', 'Guenther Ruhe', 'Qiong Feng', 'Chris Carlson', 'Francis Chew'], A longitudinal study of identifying and paying down architecture debt, None\n---\n6, feng2019active, 2019, ['Qiong Feng', 'Yuanfang Cai', 'Rick Kazman', 'Di Cui', 'Ting Liu', 'Hongzhou Fang'], Active hotspot: an issue-oriented model to monitor software evolution and degradation, None\n---\n7, li2014empirical, 2014, ['Zengyang Li', 'Peng Liang', 'Paris Avgeriou', 'Nicolas Guelfi', 'Apostolos Ampatzoglou'], An empirical investigation of modularity metrics for indicating architectural technical debt, None\n---\n8, martini2016empirically, 2016, ['Antonio Martini', 'Jan Bosch'], An empirically developed method to aid decisions on architectural technical debt refactoring: AnaConDebt, None\n---\n9, xiao2016identifying, 2016, ['Lu Xiao', 'Yuanfang Cai', 'Rick Kazman', 'Ran Mo', 'Qiong Feng'], Identifying and quantifying architectural debt, None\n---\n10, verdecchia2018identifying, 2018, ['Roberto Verdecchia'], Identifying architectural technical debt in android applications through automated compliance checking, None\n---\n11, von2019mitigating, 2019, ['Alexander Zitzewitz'], Mitigating Technical and Architectural Debt with Sonargraph, None\n---\n12, martini2017interest, 2017, ['Antonio Martini', 'Jan Bosch'], On the interest of architectural technical debt: Uncovering the contagious debt phenomenon, None\n---\n13, fontana2016tool, 2016, ['Francesca Fontana', 'Riccardo Roveda', 'Marco Zanoni'], Tool support for evaluating architectural debt of an existing system: An experience report, None\n---\n14, li2015architectural, 2015, ['Zengyang Li', 'Peng Liang', 'Paris Avgeriou'], Architectural technical debt identification based on architecture decisions and change scenarios, None\n---\n15, martini2014architecture, 2014, ['Antonio Martini', 'Jan Bosch', 'Michel Chaudron'], Architecture technical debt: Understanding causes and a qualitative model, None\n---\n16, martini2016estimating, 2016, ['Antonio Martini', 'Erik Sikander', 'Niel Medlani'], Estimating and quantifying the benefits of refactoring to improve a component modularity: a case study, None\n---\n17, martini2018identifying, 2018, ['Antonio Martini', 'Francesca Fontana', 'Andrea Biaggi', 'Riccardo Roveda'], Identifying and prioritizing architectural debt through architectural smells: a case study in a large software company, None\n---\n18, cai2016software, 2016, ['Yuanfang Cai', 'Rick Kazman'], Software architecture health monitor, None\n---\n19, kazman2015case, 2015, ['Rick Kazman', 'Yuanfang Cai', 'Ran Mo', 'Qiong Feng', 'Lu Xiao', 'Serge Haziyev', 'Volodymyr Fedak', 'Andriy Shapochka'], A case study in locating the architectural roots of technical debt, None\n---\n20, martini2015towards, 2015, ['Antonio Martini', 'Jan Bosch'], Towards prioritizing architecture technical debt: information needs of architects and product owners, None\n---\n21, tommasel2019applying, 2019, ['Antonela Tommasel'], Applying Social Network Analysis Techniques to Architectural Smell Prediction, None\n---\n22, nord2012search, 2012, ['Robert Nord', 'Ipek Ozkaya', 'Philippe Kruchten', 'Marco Gonzalez-Rojas'], In search of a metric for managing architectural technical debt, None\n---\n23, cai2019dv8, 2019, ['Yuanfang Cai', 'Rick Kazman'], DV8: automated architecture analysis tool suites, None\n---\n24, skiada2018exploring, 2018, ['Peggy Skiada', 'Apostolos Ampatzoglou', 'Elvira-Maria Arvanitou', 'Alexander Chatzigeorgiou', 'Ioannis Stamelos'], Exploring the relationship between software modularity and technical debt, None\n---\n25, eliasson2015identifying, 2015, ['Ulf Eliasson', 'Antonio Martini', 'Robert Kaufmann', 'Sam Odeh'], Identifying and visualizing Architectural Debt and its efficiency interest in the automotive domain: A case study, None\n---\n26, fontana2016technical, 2016, ['Francesca Fontana', 'Riccardo Roveda', 'Marco Zanoni'], Technical debt indexes provided by tools: a preliminary discussion, None\n---\n27, maccormack2016technical, 2016, ['Alan MacCormack', 'Daniel Sturtevant'], Technical debt and system architecture: The impact of coupling on defect-related activity, None\n---\n28, sas2019investigating, 2019, ['Darius Sas', 'Paris Avgeriou', 'Francesca Fontana'], Investigating instability architectural smells evolution: an exploratory case study, None\n---\n29, fontana2019pagerank, 2019, ['Francesca Fontana', 'Ilaria Pigazzini', 'Claudia Raibulet', 'Stefano Basciano', 'Riccardo Roveda'], Pagerank and criticality of architectural smells, None\n---\n30, spinellis2019evolution, 2019, ['Diomidis Spinellis', 'Paris Avgeriou'], Evolution of the Unix system architecture: an exploratory case study, None\n---\n31, izurieta2018position, 2018, ['Clemente Izurieta', 'Kali Kimball', 'David Rice', 'Tessa Valentien'], A position study to investigate technical debt associated with security weaknesses, None\n---\n32, besker2017pricey, 2017, ['Terese Besker', 'Antonio Martini', 'Jan Bosch'], The pricey bill of technical debt: When and by whom will it be paid?, None\n---\n33, ampatzoglou2016perception, 2016, ['Areti Ampatzoglou', 'Apostolos Ampatzoglou', 'Alexander Chatzigeorgiou', 'Paris Avgeriou', 'Pekka Abrahamsson', 'Antonio Martini', 'Uwe Zdun', 'Kari Systa'], The perception of technical debt in the embedded systems domain: an industrial case study, None\n---\n34, martini2016introduction, 2016, ['Antonio Martini', 'Terese Besker', 'Jan Bosch'], The introduction of technical debt tracking in large companies, None\n---\n35, aaramaa2017requirements, 2017, ['Sanja Aaramaa', 'Sandun Dasanayake', 'Markku Oivo', 'Jouni Markkula', 'Samuli Saukkonen'], Requirements volatility in software architecture design: an exploratory case study, None\n---\n36, martini2015investigating, 2015, ['Antonio Martini', 'Jan Bosch', 'Michel Chaudron'], Investigating Architectural Technical Debt accumulation and refactoring over time: A multiple-case study, None\n---\n37, cai2018design, 2018, ['Yuanfang Cai', 'Lu Xiao', 'Rick Kazman', 'Ran Mo', 'Qiong Feng'], Design rule spaces: A new model for representing and analyzing software architecture, None\n---\n38, bogner2019assuring, 2019, ['Justus Bogner', 'Jonas Fritzsch', 'Stefan Wagner', 'Alfred Zimmermann'], Assuring the evolvability of microservices: insights into industry practices and challenges, None\n---\n39, ludwig2017compiling, 2017, ['Jeremy Ludwig', 'Steven Xu', 'Frederick Webber'], Compiling static software metrics for reliability and maintainability from GitHub repositories, None\n---\n40, curtis2012estimating, 2012, ['Bill Curtis', 'Jay Sappidi', 'Alexandra Szynkarski'], Estimating the principal of an application's technical debt, None\n---\n41, kumar2018exploring, 2018, ['M Kumar', 'AN Nandakumar'], Exploring multilateral Cloud computing security architectural design debt in terms of technical debt, None\n---\n42, hanssen2019identifying, 2019, ['Geir Hanssen', 'Gunnar Brataas', 'Antonio Martini'], Identifying scalability debt in open systems, None\n---\n43, sierra2019self, 2019, ['Giancarlo Sierra', 'Ahmad Tahmid', 'Emad Shihab', 'Nikolaos Tsantalis'], Is self-admitted technical debt a good indicator of architectural divergences?, None\n---\n44, bogner2018limiting, 2018, ['Justus Bogner', 'Jonas Fritzsch', 'Stefan Wagner', 'Alfred Zimmermann'], Limiting technical debt with maintainability assurance: an industry survey on used techniques and differences with service-and microservice-based systems, None\n---\n45, zalewski2017risk, 2017, ['Andrzej Zalewski'], Risk Appetite in Architectural Decision-Making, None\n---\n46, tamburri2019software, 2019, ['Damian Tamburri'], Software architecture social debt: managing the incommunicability factor, None\n---\n47, verdecchia2020architectural, 2020, ['Roberto Verdecchia', 'Philippe Kruchten', 'Patricia Lago'], Architectural Technical Debt: A Grounded Theory, None\n---\n48, pujols2020skuld, 2020, ['Josep Pujols', 'Pieter Bas', \"Silverio Mart{\\\\'\\\\i}nez-Fernandez\", 'Antonio Martini', 'Adam Trendowicz'], Skuld: a self-learning tool for impact-driven technical debt management, None\n---\n49, molnar2020long, 2020, ['Arthur-Jozsef Molnar', 'Simona Motogna'], Long-Term Evaluation of Technical Debt in Open-Source Software, None\n---\n50, janes2020towards, 2020, ['Andrea Janes', 'Valentina Lenarduzzi'], Towards an Approach to Identify Obsolete Features based on Importance and Technical Debt, None\n---\n51, maikantis2020software, 2020, ['Theodoros Maikantis', 'Angeliki-Agathi Tsintzira', 'Apostolos Ampatzoglou', 'Elvira-Maria Arvanitou', 'Alexander Chatzigeorgiou', 'Ioannis Stamelos', 'Stamatia Bibi', 'Ignatios Deligiannis'], Software Architecture Reconstruction via a Genetic Algorithm: Applying the Move Class Refactoring, None\n---\n52, san2020characterizing, 2020, [\"Daniel San Mart{\\\\'\\\\i}n\", 'Bento Siqueira', 'Valter Camargo', 'Fabiano Ferrari'], Characterizing Architectural Drifts of Adaptive Systems, None\n---\n53, de2020improving, 2020, ['Saulo Toledo', 'Antonio Martini', 'Dag Sj{\\\\o}berg'], Improving agility by managing shared libraries in microservices, None\n---\n54, rademacher2020modeling, 2020, ['Florian Rademacher', 'Sabine Sachweh', 'Albert Z{\\\\\"u}ndorf'], A modeling method for systematic architecture reconstruction of microservice-based software systems, None\n---\n55, larrucea2020managing, 2020, ['Xabier Larrucea', 'Izaskun Santamaria', 'Borja Fernandez-Gauna'], Managing security debt across PLC phases in a VSE context, None\n---\n56, raibulet2020preliminary, 2020, ['Claudia Raibulet', 'Francesca Fontana', 'Simone Carettoni'], A preliminary analysis of self-adaptive systems according to different issues, None\n---\n57, sharma2020empirical, 2020, ['Tushar Sharma', 'Paramvir Singh', 'Diomidis Spinellis'], An empirical investigation on the relationship between design and architecture smells, None\n---\nSucesso! Leitura de 57 entradas no arquivo ../../bib/sps.bib\n"
     ]
    }
   ],
   "source": [
    "try:\n",
    "    my_data = dict()\n",
    "\n",
    "    my_data['key'] = list()\n",
    "    my_data['year'] = list()\n",
    "    my_data['list_authors'] = list()\n",
    "    my_data['title'] = list()\n",
    "    my_data['abstract'] = list()\n",
    "\n",
    "    i = 1\n",
    "    for key, value in bib_data.entries.items(): \n",
    "        year = value.fields['year']\n",
    "        list_authors = util.show_names(value.persons['author'])\n",
    "        title = value.fields['title']\n",
    "        if ('abstract' in value.fields): \n",
    "            abstract = value.fields['abstract']\n",
    "        else: \n",
    "            abstract = None    \n",
    "        my_data['key'].append(key)\n",
    "        my_data['year'].append(year)\n",
    "        my_data['list_authors'].append(list_authors)\n",
    "        my_data['title'].append(title)\n",
    "        my_data['abstract'].append(abstract)\n",
    "\n",
    "        print('{}, {}, {}, {}, {}, {}'.format(i, key, year, list_authors, title, abstract))\n",
    "        print('---')\n",
    "        i += 1\n",
    "    print(\"Sucesso! Leitura de {} entradas no arquivo {}\".format(i-1, '../../bib/sps.bib'))\n",
    "except Exception as e:\n",
    "    print(\"Erro \" + str(e)+ \" na leitura do arquivo \" + '../../bib/sps.bib')"
   ]
  },
  {
   "cell_type": "code",
   "execution_count": 12,
   "metadata": {},
   "outputs": [
    {
     "output_type": "stream",
     "name": "stdout",
     "text": [
      "Arquivo ../../md/my_sps_extracted.md  gerado com sucesso!\n"
     ]
    },
    {
     "output_type": "execute_result",
     "data": {
      "text/plain": [
       "                 key  year                                       list_authors  \\\n",
       "0  perez2019proposed  2019  [Boris P{\\'e}rez, Dar{\\'\\i}o Correal, Hern{\\'a...   \n",
       "1    martini2018semi  2018     [Antonio Martini, Erik Sikander, Niel Madlani]   \n",
       "2  roveda2018towards  2018  [Riccardo Roveda, Francesca Fontana, Ilaria Pi...   \n",
       "\n",
       "                                               title abstract  \n",
       "0  A proposed model-driven approach to manage arc...     None  \n",
       "1  A semi-automated framework for the identificat...     None  \n",
       "2                Towards an architectural debt index     None  "
      ],
      "text/html": "<div>\n<style scoped>\n    .dataframe tbody tr th:only-of-type {\n        vertical-align: middle;\n    }\n\n    .dataframe tbody tr th {\n        vertical-align: top;\n    }\n\n    .dataframe thead th {\n        text-align: right;\n    }\n</style>\n<table border=\"1\" class=\"dataframe\">\n  <thead>\n    <tr style=\"text-align: right;\">\n      <th></th>\n      <th>key</th>\n      <th>year</th>\n      <th>list_authors</th>\n      <th>title</th>\n      <th>abstract</th>\n    </tr>\n  </thead>\n  <tbody>\n    <tr>\n      <th>0</th>\n      <td>perez2019proposed</td>\n      <td>2019</td>\n      <td>[Boris P{\\'e}rez, Dar{\\'\\i}o Correal, Hern{\\'a...</td>\n      <td>A proposed model-driven approach to manage arc...</td>\n      <td>None</td>\n    </tr>\n    <tr>\n      <th>1</th>\n      <td>martini2018semi</td>\n      <td>2018</td>\n      <td>[Antonio Martini, Erik Sikander, Niel Madlani]</td>\n      <td>A semi-automated framework for the identificat...</td>\n      <td>None</td>\n    </tr>\n    <tr>\n      <th>2</th>\n      <td>roveda2018towards</td>\n      <td>2018</td>\n      <td>[Riccardo Roveda, Francesca Fontana, Ilaria Pi...</td>\n      <td>Towards an architectural debt index</td>\n      <td>None</td>\n    </tr>\n  </tbody>\n</table>\n</div>"
     },
     "metadata": {},
     "execution_count": 12
    }
   ],
   "source": [
    "df_bib = pd.DataFrame(data=my_data, columns=['key', 'year', 'list_authors', 'title', 'abstract'])\n",
    "\n",
    "util.create_markdown_table(my_df=df_bib, my_path='../../md', my_file_name='my_sps_extracted.md')\n",
    "\n",
    "df_bib.head(3)"
   ]
  },
  {
   "cell_type": "code",
   "execution_count": 13,
   "metadata": {},
   "outputs": [
    {
     "output_type": "stream",
     "name": "stdout",
     "text": [
      "Arquivo ../../md/my_sps_extracted_sorted_by_year.md  gerado com sucesso!\n"
     ]
    },
    {
     "output_type": "execute_result",
     "data": {
      "text/plain": [
       "                         key  year  \\\n",
       "21            nord2012search  2012   \n",
       "39      curtis2012estimating  2012   \n",
       "14   martini2014architecture  2014   \n",
       "6            li2014empirical  2014   \n",
       "18            kazman2015case  2015   \n",
       "19        martini2015towards  2015   \n",
       "35  martini2015investigating  2015   \n",
       "13       li2015architectural  2015   \n",
       "24   eliasson2015identifying  2015   \n",
       "25      fontana2016technical  2016   \n",
       "\n",
       "                                         list_authors  \\\n",
       "21  [Robert Nord, Ipek Ozkaya, Philippe Kruchten, ...   \n",
       "39   [Bill Curtis, Jay Sappidi, Alexandra Szynkarski]   \n",
       "14      [Antonio Martini, Jan Bosch, Michel Chaudron]   \n",
       "6   [Zengyang Li, Peng Liang, Paris Avgeriou, Nico...   \n",
       "18  [Rick Kazman, Yuanfang Cai, Ran Mo, Qiong Feng...   \n",
       "19                       [Antonio Martini, Jan Bosch]   \n",
       "35      [Antonio Martini, Jan Bosch, Michel Chaudron]   \n",
       "13          [Zengyang Li, Peng Liang, Paris Avgeriou]   \n",
       "24  [Ulf Eliasson, Antonio Martini, Robert Kaufman...   \n",
       "25  [Francesca Fontana, Riccardo Roveda, Marco Zan...   \n",
       "\n",
       "                                                title abstract  \n",
       "21  In search of a metric for managing architectur...     None  \n",
       "39  Estimating the principal of an application's t...     None  \n",
       "14  Architecture technical debt: Understanding cau...     None  \n",
       "6   An empirical investigation of modularity metri...     None  \n",
       "18  A case study in locating the architectural roo...     None  \n",
       "19  Towards prioritizing architecture technical de...     None  \n",
       "35  Investigating Architectural Technical Debt acc...     None  \n",
       "13  Architectural technical debt identification ba...     None  \n",
       "24  Identifying and visualizing Architectural Debt...     None  \n",
       "25  Technical debt indexes provided by tools: a pr...     None  "
      ],
      "text/html": "<div>\n<style scoped>\n    .dataframe tbody tr th:only-of-type {\n        vertical-align: middle;\n    }\n\n    .dataframe tbody tr th {\n        vertical-align: top;\n    }\n\n    .dataframe thead th {\n        text-align: right;\n    }\n</style>\n<table border=\"1\" class=\"dataframe\">\n  <thead>\n    <tr style=\"text-align: right;\">\n      <th></th>\n      <th>key</th>\n      <th>year</th>\n      <th>list_authors</th>\n      <th>title</th>\n      <th>abstract</th>\n    </tr>\n  </thead>\n  <tbody>\n    <tr>\n      <th>21</th>\n      <td>nord2012search</td>\n      <td>2012</td>\n      <td>[Robert Nord, Ipek Ozkaya, Philippe Kruchten, ...</td>\n      <td>In search of a metric for managing architectur...</td>\n      <td>None</td>\n    </tr>\n    <tr>\n      <th>39</th>\n      <td>curtis2012estimating</td>\n      <td>2012</td>\n      <td>[Bill Curtis, Jay Sappidi, Alexandra Szynkarski]</td>\n      <td>Estimating the principal of an application's t...</td>\n      <td>None</td>\n    </tr>\n    <tr>\n      <th>14</th>\n      <td>martini2014architecture</td>\n      <td>2014</td>\n      <td>[Antonio Martini, Jan Bosch, Michel Chaudron]</td>\n      <td>Architecture technical debt: Understanding cau...</td>\n      <td>None</td>\n    </tr>\n    <tr>\n      <th>6</th>\n      <td>li2014empirical</td>\n      <td>2014</td>\n      <td>[Zengyang Li, Peng Liang, Paris Avgeriou, Nico...</td>\n      <td>An empirical investigation of modularity metri...</td>\n      <td>None</td>\n    </tr>\n    <tr>\n      <th>18</th>\n      <td>kazman2015case</td>\n      <td>2015</td>\n      <td>[Rick Kazman, Yuanfang Cai, Ran Mo, Qiong Feng...</td>\n      <td>A case study in locating the architectural roo...</td>\n      <td>None</td>\n    </tr>\n    <tr>\n      <th>19</th>\n      <td>martini2015towards</td>\n      <td>2015</td>\n      <td>[Antonio Martini, Jan Bosch]</td>\n      <td>Towards prioritizing architecture technical de...</td>\n      <td>None</td>\n    </tr>\n    <tr>\n      <th>35</th>\n      <td>martini2015investigating</td>\n      <td>2015</td>\n      <td>[Antonio Martini, Jan Bosch, Michel Chaudron]</td>\n      <td>Investigating Architectural Technical Debt acc...</td>\n      <td>None</td>\n    </tr>\n    <tr>\n      <th>13</th>\n      <td>li2015architectural</td>\n      <td>2015</td>\n      <td>[Zengyang Li, Peng Liang, Paris Avgeriou]</td>\n      <td>Architectural technical debt identification ba...</td>\n      <td>None</td>\n    </tr>\n    <tr>\n      <th>24</th>\n      <td>eliasson2015identifying</td>\n      <td>2015</td>\n      <td>[Ulf Eliasson, Antonio Martini, Robert Kaufman...</td>\n      <td>Identifying and visualizing Architectural Debt...</td>\n      <td>None</td>\n    </tr>\n    <tr>\n      <th>25</th>\n      <td>fontana2016technical</td>\n      <td>2016</td>\n      <td>[Francesca Fontana, Riccardo Roveda, Marco Zan...</td>\n      <td>Technical debt indexes provided by tools: a pr...</td>\n      <td>None</td>\n    </tr>\n  </tbody>\n</table>\n</div>"
     },
     "metadata": {},
     "execution_count": 13
    }
   ],
   "source": [
    "df_bib_sort_by_year = df_bib.sort_values('year')\n",
    "\n",
    "util.create_markdown_table(my_df=df_bib_sort_by_year, my_path='../../md', my_file_name='my_sps_extracted_sorted_by_year.md')\n",
    "\n",
    "df_bib_sort_by_year.head(10)"
   ]
  },
  {
   "cell_type": "code",
   "execution_count": 14,
   "metadata": {},
   "outputs": [
    {
     "output_type": "stream",
     "name": "stdout",
     "text": [
      "Arquivo ../../md/my_sps_extracted_sorted_by_title.md  gerado com sucesso!\n"
     ]
    },
    {
     "output_type": "execute_result",
     "data": {
      "text/plain": [
       "                        key  year  \\\n",
       "3            snipes2018case  2018   \n",
       "18           kazman2015case  2015   \n",
       "4    nayebi2019longitudinal  2019   \n",
       "53   rademacher2020modeling  2020   \n",
       "30     izurieta2018position  2018   \n",
       "55  raibulet2020preliminary  2020   \n",
       "0         perez2019proposed  2019   \n",
       "1           martini2018semi  2018   \n",
       "5            feng2019active  2019   \n",
       "6           li2014empirical  2014   \n",
       "\n",
       "                                         list_authors  \\\n",
       "3               [Will Snipes, Sunil Karlekar, Ran Mo]   \n",
       "18  [Rick Kazman, Yuanfang Cai, Ran Mo, Qiong Feng...   \n",
       "4   [Maleknaz Nayebi, Yuanfang Cai, Rick Kazman, G...   \n",
       "53  [Florian Rademacher, Sabine Sachweh, Albert Z{...   \n",
       "30  [Clemente Izurieta, Kali Kimball, David Rice, ...   \n",
       "55  [Claudia Raibulet, Francesca Fontana, Simone C...   \n",
       "0   [Boris P{\\'e}rez, Dar{\\'\\i}o Correal, Hern{\\'a...   \n",
       "1      [Antonio Martini, Erik Sikander, Niel Madlani]   \n",
       "5   [Qiong Feng, Yuanfang Cai, Rick Kazman, Di Cui...   \n",
       "6   [Zengyang Li, Peng Liang, Paris Avgeriou, Nico...   \n",
       "\n",
       "                                                title abstract  \n",
       "3   A Case Study of the Effects of Architecture De...     None  \n",
       "18  A case study in locating the architectural roo...     None  \n",
       "4   A longitudinal study of identifying and paying...     None  \n",
       "53  A modeling method for systematic architecture ...     None  \n",
       "30  A position study to investigate technical debt...     None  \n",
       "55  A preliminary analysis of self-adaptive system...     None  \n",
       "0   A proposed model-driven approach to manage arc...     None  \n",
       "1   A semi-automated framework for the identificat...     None  \n",
       "5   Active hotspot: an issue-oriented model to mon...     None  \n",
       "6   An empirical investigation of modularity metri...     None  "
      ],
      "text/html": "<div>\n<style scoped>\n    .dataframe tbody tr th:only-of-type {\n        vertical-align: middle;\n    }\n\n    .dataframe tbody tr th {\n        vertical-align: top;\n    }\n\n    .dataframe thead th {\n        text-align: right;\n    }\n</style>\n<table border=\"1\" class=\"dataframe\">\n  <thead>\n    <tr style=\"text-align: right;\">\n      <th></th>\n      <th>key</th>\n      <th>year</th>\n      <th>list_authors</th>\n      <th>title</th>\n      <th>abstract</th>\n    </tr>\n  </thead>\n  <tbody>\n    <tr>\n      <th>3</th>\n      <td>snipes2018case</td>\n      <td>2018</td>\n      <td>[Will Snipes, Sunil Karlekar, Ran Mo]</td>\n      <td>A Case Study of the Effects of Architecture De...</td>\n      <td>None</td>\n    </tr>\n    <tr>\n      <th>18</th>\n      <td>kazman2015case</td>\n      <td>2015</td>\n      <td>[Rick Kazman, Yuanfang Cai, Ran Mo, Qiong Feng...</td>\n      <td>A case study in locating the architectural roo...</td>\n      <td>None</td>\n    </tr>\n    <tr>\n      <th>4</th>\n      <td>nayebi2019longitudinal</td>\n      <td>2019</td>\n      <td>[Maleknaz Nayebi, Yuanfang Cai, Rick Kazman, G...</td>\n      <td>A longitudinal study of identifying and paying...</td>\n      <td>None</td>\n    </tr>\n    <tr>\n      <th>53</th>\n      <td>rademacher2020modeling</td>\n      <td>2020</td>\n      <td>[Florian Rademacher, Sabine Sachweh, Albert Z{...</td>\n      <td>A modeling method for systematic architecture ...</td>\n      <td>None</td>\n    </tr>\n    <tr>\n      <th>30</th>\n      <td>izurieta2018position</td>\n      <td>2018</td>\n      <td>[Clemente Izurieta, Kali Kimball, David Rice, ...</td>\n      <td>A position study to investigate technical debt...</td>\n      <td>None</td>\n    </tr>\n    <tr>\n      <th>55</th>\n      <td>raibulet2020preliminary</td>\n      <td>2020</td>\n      <td>[Claudia Raibulet, Francesca Fontana, Simone C...</td>\n      <td>A preliminary analysis of self-adaptive system...</td>\n      <td>None</td>\n    </tr>\n    <tr>\n      <th>0</th>\n      <td>perez2019proposed</td>\n      <td>2019</td>\n      <td>[Boris P{\\'e}rez, Dar{\\'\\i}o Correal, Hern{\\'a...</td>\n      <td>A proposed model-driven approach to manage arc...</td>\n      <td>None</td>\n    </tr>\n    <tr>\n      <th>1</th>\n      <td>martini2018semi</td>\n      <td>2018</td>\n      <td>[Antonio Martini, Erik Sikander, Niel Madlani]</td>\n      <td>A semi-automated framework for the identificat...</td>\n      <td>None</td>\n    </tr>\n    <tr>\n      <th>5</th>\n      <td>feng2019active</td>\n      <td>2019</td>\n      <td>[Qiong Feng, Yuanfang Cai, Rick Kazman, Di Cui...</td>\n      <td>Active hotspot: an issue-oriented model to mon...</td>\n      <td>None</td>\n    </tr>\n    <tr>\n      <th>6</th>\n      <td>li2014empirical</td>\n      <td>2014</td>\n      <td>[Zengyang Li, Peng Liang, Paris Avgeriou, Nico...</td>\n      <td>An empirical investigation of modularity metri...</td>\n      <td>None</td>\n    </tr>\n  </tbody>\n</table>\n</div>"
     },
     "metadata": {},
     "execution_count": 14
    }
   ],
   "source": [
    "df_bib_sort_by_title = df_bib.sort_values('title')\n",
    "\n",
    "util.create_markdown_table(my_df=df_bib_sort_by_title, my_path='../../md', my_file_name='my_sps_extracted_sorted_by_title.md')\n",
    "\n",
    "df_bib_sort_by_title.head(10)"
   ]
  },
  {
   "cell_type": "code",
   "execution_count": null,
   "metadata": {},
   "outputs": [],
   "source": []
  }
 ]
}