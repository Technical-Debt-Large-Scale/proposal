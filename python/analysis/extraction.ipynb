{
 "metadata": {
  "language_info": {
   "codemirror_mode": {
    "name": "ipython",
    "version": 3
   },
   "file_extension": ".py",
   "mimetype": "text/x-python",
   "name": "python",
   "nbconvert_exporter": "python",
   "pygments_lexer": "ipython3",
   "version": "3.6.3"
  },
  "orig_nbformat": 2,
  "kernelspec": {
   "name": "python363jvsc74a57bd005ece30799c2dcdac4c13b3af20453da19de8df0d9a1de52cff7e0b6e1e82bdd",
   "display_name": "Python 3.6.3 64-bit ('3.6')"
  }
 },
 "nbformat": 4,
 "nbformat_minor": 2,
 "cells": [
  {
   "cell_type": "code",
   "execution_count": 11,
   "metadata": {},
   "outputs": [],
   "source": [
    "import os\n",
    "import sys\n",
    "nb_dir = os.path.split(os.getcwd())[0]\n",
    "if nb_dir not in sys.path:\n",
    "    sys.path.append(nb_dir)\n",
    "\n",
    "import pandas as pd\n",
    "import util.utilities as util\n",
    "from pybtex.database import parse_file"
   ]
  },
  {
   "cell_type": "code",
   "execution_count": 12,
   "metadata": {
    "tags": []
   },
   "outputs": [],
   "source": [
    "bib_data = parse_file('../../bib/bibliography.bib')"
   ]
  },
  {
   "cell_type": "code",
   "execution_count": 13,
   "metadata": {
    "tags": [
     "outputPrepend"
    ]
   },
   "outputs": [
    {
     "output_type": "stream",
     "name": "stdout",
     "text": [
      "s demands better ways to manage the long-term effects of short- term expedients. The technical debt metaphor is gaining significant traction in the agile development community as a way to understand and communicate such issues. The idea is that developers sometimes accept compromises in a system in one dimension (e.g., modularity) to meet an urgent demand in some other dimension (e.g., a deadline), and that such compromises incur a “debt”: on which “interest” has to be paid and which the “principal” should be repaid at some point for the long-term health of the project. We argue that the software engineering research community has an opportunity to study and improve this concept. We can offer software engineers a foundation for managing such trade-offs based on models of their economic impacts. Therefore, we propose managing technical debt as a part of the future research agenda for the software engineering field.\n---\n75, Li2014, 2014, ['Zengyang Li', 'Peng Liang', 'Paris Avgeriou'], Architectural debt management in value-oriented architecting, Architectural technical debt (ATD) may be incurred when making architecture decisions. In most cases, ATD is not effectively managed in the architecting process: It is not made explicit, and architecture decision making does not consider the ATD incurred by the different design options. This chapter proposes a conceptual model of ATD and an architectural technical debt management process applying this ATD conceptual model in order to facilitate decision making in a value-oriented perspective of architecting. We also demonstrate how ATD management can be employed in architectural synthesis and evaluation in a case study. The contribution of this work provides a controllable and predictable balance between the value and cost of architecture design in the long term.\n---\n76, Tom2013, 2013, ['Edith Tom', 'Ayb{\\\\\"u}Ke Aurum', 'Richard Vidgen'], An exploration of technical debt, Context Whilst technical debt is considered to be detrimental to the long term success of software development, it appears to be poorly understood in academic literature. The absence of a clear definition and model for technical debt exacerbates the challenge of its identification and adequate management, thus preventing the realisation of technical debt's utility as a conceptual and technical communication device. Objective To make a critical examination of technical debt and consolidate understanding of the nature of technical debt and its implications for software development. Method An exploratory case study technique that involves multivocal literature review, supplemented by interviews with software practitioners and academics to establish the boundaries of the technical debt phenomenon. Result A key outcome of this research is the creation of a theoretical framework that provides a holistic view of technical debt comprising a set of technical debts dimensions, attributes, precedents and outcomes, as well as the phenomenon itself and a taxonomy that describes and encompasses different forms of the technical debt phenomenon. Conclusion The proposed framework provides a useful approach to understanding the overall phenomenon of technical debt for practical purposes. Future research should incorporate empirical studies to validate heuristics and techniques that will assist practitioners in their management of technical debt.\n---\n77, Curtis2012, 2012, ['Bill Curtis', 'Jay Sappidi', 'Alexandra Szynkarski'], Estimating the principal of an application's technical debt, This article characterizes technical debt across 700 business applications, comprising 357 MLOC. These applications were analyzed against more than 1,200 rules of good architectural and coding practice. The authors present a formula with adjustable parameters for estimating the principal of technical debt from structural quality data.\n---\n78, Potdar2014, 2014, ['Aniket Potdar', 'Emad Shihab'], An exploratory study on self-admitted technical debt, Throughout a software development life cycle, developers knowingly commit code that is either incomplete, requires rework, produces errors, or is a temporary workaround. Such incomplete or temporary workarounds are commonly referred to as 'technical debt'. Our experience indicates that self-admitted technical debt is common in software projects and may negatively impact software maintenance, however, to date very little is known about them. Therefore, in this paper, we use source-code comments in four large open source software projects-Eclipse, Chromium OS, Apache HTTP Server, and ArgoUML to identify self-admitted technical debt. Using the identified technical debt, we study 1) the amount of self-admitted technical debt found in these projects, 2) why this self-admitted technical debt was introduced into the software projects and 3) how likely is the self-admitted technical debt to be removed after their introduction. We find that the amount of self-admitted technical debt exists in 2.4%-31% of the files. Furthermore, we find that developers with higher experience tend to introduce most of the self-admitted technical debt and that time pressures and complexity of the code do not correlate with the amount of self-admitted technical debt. Lastly, although self-admitted technical debt is meant to be addressed or removed in the future, only between 26.3%-63.5% of self-admitted technical debt gets removed from projects after introduction.\n---\n79, Sharma2020, 2020, ['Tushar Sharma', 'Paramvir Singh', 'Diomidis Spinellis'], An empirical investigation on the relationship between design and architecture smells, Context: Architecture of a software system represents the key design decisions and therefore its quality plays an important role to keep the software maintainable. Code smells are indicators of quality issues in a software system and are classified based on their granularity, scope, and impact. Despite a plethora of existing work on smells, a detailed exploration of architecture smells, their characteristics, and their relationships with smells in other granularities is missing. Objective: The paper aims to study architecture smells characteristics, investigate correlation, collocation, and causation relationships between architecture and design smells. Method: We implement smell detection support for seven architecture smells. We mine 3 073 open-source repositories containing more than 118 million lines of C# code and empirically investigate the relationships between seven architecture and 19 design smells. Results: We find that smell density does not depend on repository size. Cumulatively, architecture smells are highly correlated with design smells. Our collocation analysis finds that the majority of design and architecture smell pairs do not exhibit collocation. Finally, our causality analysis reveals that design smells cause architecture smells.\n---\n80, Knodel2006, 2006, ['Jens Knodel', 'Mikael Lindvall', 'Dirk Muthig', 'Matthias Naab'], Static evaluation of software architectures, The software architecture is one of the most crucial artifacts within the lifecycle of a software system. Decisions made at the architectural level directly enable, facilitate, hamper, or interfere with the achievement of business goals, functional and quality requirements. Architecture evaluations play an important role in the development and evolution of software systems since they determine how adequate the architecture is for its intended usage. This paper summarizes our practical experience with using architecture evaluations and gives an overview on when and how static architecture evaluations contribute to architecture development. We identify ten distinct purposes and needs for static architecture evaluations and illustrate them using a set of industrial and academic case studies. In particular, we show how subsequent steps in architecture development are influenced by the results from architecture evaluations\n---\n81, Brooks1974, 1974, ['Frederick Brooks'], The mythical man-month, The more complex is a problem, it does not always put more people to help solve the problem.\n---\n82, Kruchten2019, 2019, ['Philippe Kruchten', 'Robert Nord', 'Ipek Ozkaya'], Managing Technical Debt: Reducing Friction in Software Development, None\n---\n83, Eliasson2015, 2015, ['Ulf Eliasson', 'Antonio Martini', 'Robert Kaufmann', 'Sam Odeh'], Identifying and visualizing Architectural Debt and its efficiency interest in the automotive domain: A case study, Architectural Technical Debt has recently received the attention of the scientific community, as a suitable metaphor for describing sub-optimal architectural solutions having short- term benefits but causing a long-term negative impact. We study such phenomenon in the context of Volvo Car Group, where the development of modern cars includes complex systems with mechanical components, electronics and software working together in a complicated network to perform an increasing number of functions and meet the demands of many customers. This puts high requirements on having an architecture and design that can handle these demands. Therefore, it is of utmost importance to manage Architecture Technical Debt, in order to make sure that the advantages of sub-optimal solutions do not lead to the payment of a large interest. We conducted a case study at Volvo Car Group and we discovered that architectural violations in the detailed design had an impact on the efficiency of the communication between components, which is an essential quality in cars and other embedded systems. Such interest is not studied in literature, which usually focuses on the maintainability aspects of Technical Debt. To explore how this Architectural Technical Debt and its interest could be communicated to stakeholders, we developed a visual tool. We found that not only was the Architectural Debt highly interesting for the architects and other stakeholders at VCG, but the proposed visualization was useful in increasing the awareness of the impact that Architectural Technical Debt had on efficiency.\n---\n84, Xiao2014, 2014, ['Lu Xiao', 'Yuanfang Cai', 'Rick Kazman'], Titan: A toolset that connects software architecture with quality analysis, In this tool demo, we will illustrate our tool---Titan---that supports a new architecture model: design rule spaces (DRSpaces). We will show how Titan can capture both architecture and evolutionary structure and help to bridge the gap between architecture and defect prediction. We will demo how to use our toolset to capture hundreds of buggy files into just a few architecturally related groups, and to reveal architecture issues that contribute to the error-proneness and change-proneness of these groups. Our tool has been used to analyze dozens of large-scale industrial projects, and has demonstrated its ability to provide valuable direction on which parts of the architecture are problematic, and on why, when, and how to refactor. The video demo of Titan can be found at https://art.cs.drexel.edu/~lx52/titan.mp4\n---\n85, Hassan2008, 2008, ['Ahmed Hassan'], The road ahead for mining software repositories, Source control repositories, bug repositories, archived communications, deployment logs, and code repositories are examples of software repositories that are commonly available for most software projects. The mining software repositories (MSR) field analyzes and cross-links the rich data available in these repositories to uncover interesting and actionable information about software systems. By transforming these repositories from static record-keeping ones into active repositories, we can guide decision processes in modern software projects. For example, data in source control repositories, traditionally used to archive code, could be linked with data in bug repositories to help practitioners propagate complex changes and to warn them about risky code based on prior changes and bugs. In this paper, we present a brief history of the MSR field and discuss several recent achievements and results of using MSR techniques to support software research and practice. We then discuss the various opportunities and challenges that lie in the road ahead for this important and emerging field.\n---\n86, Robles2010, 2010, ['Gregorio Robles'], Replicating msr: A study of the potential replicability of papers published in the mining software repositories proceedings, This paper is the result of reviewing all papers published in the proceedings of the former International Workshop on Mining Software Repositories (MSR) (2004-2006) and now Working Conference on MSR (2007-2009). We have analyzed the papers that contained any experimental analysis of software projects for their potentiality of being replicated. In this regard, three main issues have been addressed: i) the public availability of the data used as case study, ii) the public availability of the processed dataset used by researchers and iii) the public availability of the tools and scripts. A total number of 171 papers have been analyzed from the six workshops/working conferences up to date. Results show that MSR authors use in general publicly available data sources, mainly from free software repositories, but that the amount of publicly available processed datasets is very low. Regarding tools and scripts, for a majority of papers we have not been able to find any tool, even for papers where the authors explicitly state that they have built one. Lessons learned from the experience of reviewing the whole MSR literature and some potential solutions to lower the barriers of replicability are finally presented and discussed.\n---\n87, Zhang2014, 2014, ['Feng Zhang', 'Audris Mockus', 'Iman Keivanloo', 'Ying Zou'], Towards building a universal defect prediction model, To predict files with defects, a suitable prediction model must be built for a software project from either itself (within-project) or other projects (cross-project). A universal defect prediction model that is built from the entire set of diverse projects would relieve the need for building models for an individual project. A universal model could also be interpreted as a basic relationship between software metrics and defects. However, the variations in the distribution of predictors pose a formidable obstacle to build a universal model. Such variations exist among projects with different context factors (e.g., size and programming language). To overcome this challenge, we propose context-aware rank transformations for predictors. We cluster projects based on the similarity of the distribution of 26 predictors, and derive the rank transformations using quantiles of predictors for a cluster. We then fit the universal model on the transformed data of 1,398 open source projects hosted on SourceForge and GoogleCode. Adding context factors to the universal model improves the predictive power. The universal model obtains prediction performance comparable to the within-project models and yields similar results when applied on five external projects (one Apache and four Eclipse projects). These results suggest that a universal defect prediction model may be an achievable goal.\n---\n88, Steidl2014, 2014, ['Daniela Steidl', 'Benjamin Hummel', 'Elmar Juergens'], Incremental origin analysis of source code files, None\n---\n89, Gil2012, 2012, ['Joseph Gil', 'Maayan Goldstein', 'Dany Moshkovich'], An empirical investigation of changes in some software properties over time, Software metrics are easy to define, but not so easy to justify. It is hard to prove that a metric is valid, i.e., that measured numerical values imply anything on the vaguely defined, yet crucial software properties such as complexity and maintainability. This paper employs statistical analysis and tests to check some plausible assumptions on the behavior of software and metrics measured for this software in retrospective on its versions evolution history. Among those are the reliability assumption implicit in the application of any code metric, and the assumption that the magnitude of change, i.e., increase or decrease of its size, in a software artifact is correlated with changes to its version number. Putting a suite of 36 metrics to the trial, we confirm most of the assumptions on a large repository of software artifacts. Surprisingly, we show that a substantial portion of the reliability of some metrics can be observed even in random changes to architecture. Another surprising result is that Boolean-valued metrics tend to flip their values more often in minor software version increments than in major increments.\n---\n90, Hemmati2013, 2013, ['Hadi Hemmati', 'Sarah Nadi', 'Olga Baysal', 'Oleksii Kononenko', 'Wei Wang', 'Reid Holmes', 'Michael Godfrey'], The msr cookbook: Mining a decade of research, The Mining Software Repositories (MSR) research community has grown significantly since the first MSR workshop was held in 2004. As the community continues to broaden its scope and deepens its expertise, it is worthwhile to reflect on the best practices that our community has developed over the past decade of research. We identify these best practices by surveying past MSR conferences and workshops. To that end, we review all 117 full papers published in the MSR proceedings between 2004 and 2012. We extract 268 comments from these papers, and categorize them using a grounded theory methodology. From this evaluation, four high-level themes were identified: data acquisition and preparation, synthesis, analysis, and sharing/replication. Within each theme we identify several common recommendations, and also examine how these recommendations have evolved over the past decade. In an effort to make this survey a living artifact, we also provide a public forum that contains the extracted recommendations in the hopes that the MSR community can engage in a continuing discussion on our evolving best practices.\n---\n91, lehman1996laws, 1996, ['Manny Lehman'], Laws of software evolution revisited, None\n---\n92, allman2012managing, 2012, ['Eric Allman'], Managing technical debt, None\n---\n93, minku2016data, 2016, ['Leandro Minku', 'Emilia Mendes', 'Burak Turhan'], Data mining for software engineering and humans in the loop, None\n---\n94, van2011using, 2011, ['Jo Van Eyck', \"Nelis Bouck{\\\\'e}\", 'Alexander Helleboogh', 'Tom Holvoet'], Using code analysis tools for architectural conformance checking, None\n---\n95, bass2003software, 2003, ['Len Bass', 'Paul Clements', 'Rick Kazman'], Software architecture in practice, None\n---\n96, gurgel2014blending, 2014, ['Alessandro Gurgel', 'Isela Macia', 'Alessandro Garcia', 'Arndt Staa', 'Mira Mezini', 'Michael Eichberg', 'Ralf Mitschke'], Blending and reusing rules for architectural degradation prevention, None\n---\n97, medvidovic2010software, 2010, ['Nenad Medvidovic', 'Richard Taylor'], Software architecture: foundations, theory, and practice, None\n---\n98, juarez2017preventing, 2017, ['LM Juarez Filho', 'Lincoln Rocha', 'Rossana Andrade', 'Ricardo Britto'], Preventing erosion in exception handling design using static-architecture conformance checking, None\n---\n99, maccormack2016technical, 2016, ['Alan MacCormack', 'Daniel Sturtevant'], Technical debt and system architecture: The impact of coupling on defect-related activity, None\n---\n100, witten2005practical, 2005, ['Ian Witten', 'Eibe Frank', 'Mark Hall', 'Christopher Pal'], Practical machine learning tools and techniques, None\n---\n101, anichecontext, 2016, [\"Maur{\\\\'\\\\i}cio Aniche\"], Context-based code quality assessment, None\n---\n102, maffort2016mining, 2016, ['Cristiano Maffort', 'Marco Valente', 'Ricardo Terra', 'Mariza Bigonha', 'Nicolas Anquetil', \"Andr{\\\\'e} Hora\"], Mining architectural violations from version history, None\n---\n103, basili1996validation, 1996, ['Victor Basili', 'Lionel Briand', \"Walc{\\\\'e}lio Melo\"], A validation of object-oriented design metrics as quality indicators, None\n---\nSucesso! Leitura de 104 entradas no arquivo ../../bib/bibliography.bib\n"
     ]
    }
   ],
   "source": [
    "try:\n",
    "    my_data = dict()\n",
    "\n",
    "    my_data['key'] = list()\n",
    "    my_data['year'] = list()\n",
    "    my_data['list_authors'] = list()\n",
    "    my_data['title'] = list()\n",
    "    my_data['abstract'] = list()\n",
    "\n",
    "    i = 1\n",
    "    for key, value in bib_data.entries.items(): \n",
    "        year = value.fields['year']\n",
    "        list_authors = util.show_names(value.persons['author'])\n",
    "        title = value.fields['title']\n",
    "        if ('abstract' in value.fields): \n",
    "            abstract = value.fields['abstract']\n",
    "        else: \n",
    "            abstract = None    \n",
    "        my_data['key'].append(key)\n",
    "        my_data['year'].append(year)\n",
    "        my_data['list_authors'].append(list_authors)\n",
    "        my_data['title'].append(title)\n",
    "        my_data['abstract'].append(abstract)\n",
    "\n",
    "        print('{}, {}, {}, {}, {}, {}'.format(i, key, year, list_authors, title, abstract))\n",
    "        print('---')\n",
    "        i += 1\n",
    "    print(\"Sucesso! Leitura de {} entradas no arquivo {}\".format(i, '../../bib/bibliography.bib'))\n",
    "except Exception as e:\n",
    "    print(\"Erro \" + str(e)+ \" na leitura do arquivo \" + '../../bib/bibliography.bib')"
   ]
  },
  {
   "cell_type": "code",
   "execution_count": 19,
   "metadata": {},
   "outputs": [
    {
     "output_type": "stream",
     "name": "stdout",
     "text": [
      "Arquivo ../../md/my_bib_extracted.md  gerado com sucesso!\n"
     ]
    },
    {
     "output_type": "execute_result",
     "data": {
      "text/plain": [
       "              key  year                                       list_authors  \\\n",
       "0  Caracciolo2015  2015  [Andrea Caracciolo, Mircea Lungu, Oscar Nierst...   \n",
       "1       Terra2015  2015  [Ricardo Terra, Marco Valente, Krzysztof Czarn...   \n",
       "2       Filho2017  2017  [Juarez Filho, Lincoln Rocha, Rossana Andrade,...   \n",
       "\n",
       "                                               title  \\\n",
       "0  A Unified Approach to Architecture Conformance...   \n",
       "1  A Recommendation System for Repairing Violatio...   \n",
       "2  Preventing Erosion in Exception Handling Desig...   \n",
       "\n",
       "                                            abstract  \n",
       "0  Software erosion can be controlled by periodic...  \n",
       "1  This paper describes a recommendation system t...  \n",
       "2                                               None  "
      ],
      "text/html": "<div>\n<style scoped>\n    .dataframe tbody tr th:only-of-type {\n        vertical-align: middle;\n    }\n\n    .dataframe tbody tr th {\n        vertical-align: top;\n    }\n\n    .dataframe thead th {\n        text-align: right;\n    }\n</style>\n<table border=\"1\" class=\"dataframe\">\n  <thead>\n    <tr style=\"text-align: right;\">\n      <th></th>\n      <th>key</th>\n      <th>year</th>\n      <th>list_authors</th>\n      <th>title</th>\n      <th>abstract</th>\n    </tr>\n  </thead>\n  <tbody>\n    <tr>\n      <th>0</th>\n      <td>Caracciolo2015</td>\n      <td>2015</td>\n      <td>[Andrea Caracciolo, Mircea Lungu, Oscar Nierst...</td>\n      <td>A Unified Approach to Architecture Conformance...</td>\n      <td>Software erosion can be controlled by periodic...</td>\n    </tr>\n    <tr>\n      <th>1</th>\n      <td>Terra2015</td>\n      <td>2015</td>\n      <td>[Ricardo Terra, Marco Valente, Krzysztof Czarn...</td>\n      <td>A Recommendation System for Repairing Violatio...</td>\n      <td>This paper describes a recommendation system t...</td>\n    </tr>\n    <tr>\n      <th>2</th>\n      <td>Filho2017</td>\n      <td>2017</td>\n      <td>[Juarez Filho, Lincoln Rocha, Rossana Andrade,...</td>\n      <td>Preventing Erosion in Exception Handling Desig...</td>\n      <td>None</td>\n    </tr>\n  </tbody>\n</table>\n</div>"
     },
     "metadata": {},
     "execution_count": 19
    }
   ],
   "source": [
    "df_bib = pd.DataFrame(data=my_data, columns=['key', 'year', 'list_authors', 'title', 'abstract'])\n",
    "\n",
    "util.create_markdown_table(my_df=df_bib, my_path='../../md', my_file_name='my_bib_extracted.md')\n",
    "\n",
    "df_bib.head(3)"
   ]
  },
  {
   "cell_type": "code",
   "execution_count": 21,
   "metadata": {},
   "outputs": [
    {
     "output_type": "stream",
     "name": "stdout",
     "text": [
      "Arquivo ../../md/my_bib_extracted_sorted_by_year.md  gerado com sucesso!\n"
     ]
    },
    {
     "output_type": "execute_result",
     "data": {
      "text/plain": [
       "                      key  year  \\\n",
       "80             Brooks1974  1974   \n",
       "48            Koenker1982  1982   \n",
       "46         Chatterjee1986  1986   \n",
       "61              Perry1992  1992   \n",
       "10         Cunningham1992  1992   \n",
       "4           Chidamber1994  1994   \n",
       "15             Aoyama1995  1995   \n",
       "102  basili1996validation  1996   \n",
       "90         lehman1996laws  1996   \n",
       "42           Cavanagh1997  1997   \n",
       "\n",
       "                                          list_authors  \\\n",
       "80                                  [Frederick Brooks]   \n",
       "48                 [Roger Koenker, Gilbert Bassett Jr]   \n",
       "46                      [Samprit Chatterjee, Ali Hadi]   \n",
       "61                     [Dewayne Perry, Alexander Wolf]   \n",
       "10                                   [Ward Cunningham]   \n",
       "4                           [S. Chidamber, C. Kemerer]   \n",
       "15                                      [Mikio Aoyama]   \n",
       "102  [Victor Basili, Lionel Briand, Walc{\\'e}lio Melo]   \n",
       "90                                      [Manny Lehman]   \n",
       "42                                  [Stephen Cavanagh]   \n",
       "\n",
       "                                                 title  \\\n",
       "80                              The mythical man-month   \n",
       "48   Robust tests for heteroscedasticity based on r...   \n",
       "46   Influential observations, high leverage points...   \n",
       "61   Foundations for the study of software architec...   \n",
       "10              The WyCash Portfolio Management System   \n",
       "4           A Metrics Suite for Object Oriented Design   \n",
       "15   Management of distributed concurrent developme...   \n",
       "102  A validation of object-oriented design metrics...   \n",
       "90                Laws of software evolution revisited   \n",
       "42   Content analysis: concepts, methods and applic...   \n",
       "\n",
       "                                              abstract  \n",
       "80   The more complex is a problem, it does not alw...  \n",
       "48                                                None  \n",
       "46                                                None  \n",
       "61   The purpose of this paper is to build the foun...  \n",
       "10                                                None  \n",
       "4    Given the central role that software developme...  \n",
       "15                                                None  \n",
       "102                                               None  \n",
       "90                                                None  \n",
       "42                                                None  "
      ],
      "text/html": "<div>\n<style scoped>\n    .dataframe tbody tr th:only-of-type {\n        vertical-align: middle;\n    }\n\n    .dataframe tbody tr th {\n        vertical-align: top;\n    }\n\n    .dataframe thead th {\n        text-align: right;\n    }\n</style>\n<table border=\"1\" class=\"dataframe\">\n  <thead>\n    <tr style=\"text-align: right;\">\n      <th></th>\n      <th>key</th>\n      <th>year</th>\n      <th>list_authors</th>\n      <th>title</th>\n      <th>abstract</th>\n    </tr>\n  </thead>\n  <tbody>\n    <tr>\n      <th>80</th>\n      <td>Brooks1974</td>\n      <td>1974</td>\n      <td>[Frederick Brooks]</td>\n      <td>The mythical man-month</td>\n      <td>The more complex is a problem, it does not alw...</td>\n    </tr>\n    <tr>\n      <th>48</th>\n      <td>Koenker1982</td>\n      <td>1982</td>\n      <td>[Roger Koenker, Gilbert Bassett Jr]</td>\n      <td>Robust tests for heteroscedasticity based on r...</td>\n      <td>None</td>\n    </tr>\n    <tr>\n      <th>46</th>\n      <td>Chatterjee1986</td>\n      <td>1986</td>\n      <td>[Samprit Chatterjee, Ali Hadi]</td>\n      <td>Influential observations, high leverage points...</td>\n      <td>None</td>\n    </tr>\n    <tr>\n      <th>61</th>\n      <td>Perry1992</td>\n      <td>1992</td>\n      <td>[Dewayne Perry, Alexander Wolf]</td>\n      <td>Foundations for the study of software architec...</td>\n      <td>The purpose of this paper is to build the foun...</td>\n    </tr>\n    <tr>\n      <th>10</th>\n      <td>Cunningham1992</td>\n      <td>1992</td>\n      <td>[Ward Cunningham]</td>\n      <td>The WyCash Portfolio Management System</td>\n      <td>None</td>\n    </tr>\n    <tr>\n      <th>4</th>\n      <td>Chidamber1994</td>\n      <td>1994</td>\n      <td>[S. Chidamber, C. Kemerer]</td>\n      <td>A Metrics Suite for Object Oriented Design</td>\n      <td>Given the central role that software developme...</td>\n    </tr>\n    <tr>\n      <th>15</th>\n      <td>Aoyama1995</td>\n      <td>1995</td>\n      <td>[Mikio Aoyama]</td>\n      <td>Management of distributed concurrent developme...</td>\n      <td>None</td>\n    </tr>\n    <tr>\n      <th>102</th>\n      <td>basili1996validation</td>\n      <td>1996</td>\n      <td>[Victor Basili, Lionel Briand, Walc{\\'e}lio Melo]</td>\n      <td>A validation of object-oriented design metrics...</td>\n      <td>None</td>\n    </tr>\n    <tr>\n      <th>90</th>\n      <td>lehman1996laws</td>\n      <td>1996</td>\n      <td>[Manny Lehman]</td>\n      <td>Laws of software evolution revisited</td>\n      <td>None</td>\n    </tr>\n    <tr>\n      <th>42</th>\n      <td>Cavanagh1997</td>\n      <td>1997</td>\n      <td>[Stephen Cavanagh]</td>\n      <td>Content analysis: concepts, methods and applic...</td>\n      <td>None</td>\n    </tr>\n  </tbody>\n</table>\n</div>"
     },
     "metadata": {},
     "execution_count": 21
    }
   ],
   "source": [
    "df_bib_sort_by_year = df_bib.sort_values('year')\n",
    "\n",
    "util.create_markdown_table(my_df=df_bib_sort_by_year, my_path='../../md', my_file_name='my_bib_extracted_sorted_by_year.md')\n",
    "\n",
    "df_bib_sort_by_year.head(10)"
   ]
  },
  {
   "cell_type": "code",
   "execution_count": 22,
   "metadata": {},
   "outputs": [
    {
     "output_type": "stream",
     "name": "stdout",
     "text": [
      "Arquivo ../../md/my_bib_extracted_sorted_by_title.md  gerado com sucesso!\n"
     ]
    },
    {
     "output_type": "execute_result",
     "data": {
      "text/plain": [
       "                      key  year  \\\n",
       "19             Kazman2015  2015   \n",
       "4           Chidamber1994  1994   \n",
       "1               Terra2015  2015   \n",
       "0          Caracciolo2015  2015   \n",
       "55                Lim2012  2012   \n",
       "57                Guo2011  2011   \n",
       "65                Li2015a  2015   \n",
       "24               Rios2018  2018   \n",
       "102  basili1996validation  1996   \n",
       "30            Klinger2011  2011   \n",
       "\n",
       "                                          list_authors  \\\n",
       "19   [Rick Kazman, Yuanfang Cai, Ran Mo, Qiong Feng...   \n",
       "4                           [S. Chidamber, C. Kemerer]   \n",
       "1    [Ricardo Terra, Marco Valente, Krzysztof Czarn...   \n",
       "0    [Andrea Caracciolo, Mircea Lungu, Oscar Nierst...   \n",
       "55          [Erin Lim, Nitin Taksande, Carolyn Seaman]   \n",
       "57                         [Yuepu Guo, Carolyn Seaman]   \n",
       "65           [Zengyang Li, Paris Avgeriou, Peng Liang]   \n",
       "24   [Nicolli Rios, Manoel Mendon{\\c{c}}a Neto, Rod...   \n",
       "102  [Victor Basili, Lionel Briand, Walc{\\'e}lio Melo]   \n",
       "30   [Tim Klinger, Peri Tarr, Patrick Wagstrom, Cla...   \n",
       "\n",
       "                                                 title  \\\n",
       "19   A Case Study in Locating the Architectural Roo...   \n",
       "4           A Metrics Suite for Object Oriented Design   \n",
       "1    A Recommendation System for Repairing Violatio...   \n",
       "0    A Unified Approach to Architecture Conformance...   \n",
       "55   A balancing act: what software practitioners h...   \n",
       "57   A portfolio approach to technical debt management   \n",
       "65   A systematic mapping study on technical debt a...   \n",
       "24   A tertiary study on technical debt: Types, man...   \n",
       "102  A validation of object-oriented design metrics...   \n",
       "30         An Enterprise Perspective on Technical Debt   \n",
       "\n",
       "                                              abstract  \n",
       "19   Our recent research has shown that, in large-s...  \n",
       "4    Given the central role that software developme...  \n",
       "1    This paper describes a recommendation system t...  \n",
       "0    Software erosion can be controlled by periodic...  \n",
       "55   An interview study involving 35 practitioners ...  \n",
       "57   Technical debt describes the effect of immatur...  \n",
       "65   Context Technical debt (TD) is a metaphor refl...  \n",
       "24   Context The concept of technical debt (TD) con...  \n",
       "102                                               None  \n",
       "30   Technical debt is a term that has been used to...  "
      ],
      "text/html": "<div>\n<style scoped>\n    .dataframe tbody tr th:only-of-type {\n        vertical-align: middle;\n    }\n\n    .dataframe tbody tr th {\n        vertical-align: top;\n    }\n\n    .dataframe thead th {\n        text-align: right;\n    }\n</style>\n<table border=\"1\" class=\"dataframe\">\n  <thead>\n    <tr style=\"text-align: right;\">\n      <th></th>\n      <th>key</th>\n      <th>year</th>\n      <th>list_authors</th>\n      <th>title</th>\n      <th>abstract</th>\n    </tr>\n  </thead>\n  <tbody>\n    <tr>\n      <th>19</th>\n      <td>Kazman2015</td>\n      <td>2015</td>\n      <td>[Rick Kazman, Yuanfang Cai, Ran Mo, Qiong Feng...</td>\n      <td>A Case Study in Locating the Architectural Roo...</td>\n      <td>Our recent research has shown that, in large-s...</td>\n    </tr>\n    <tr>\n      <th>4</th>\n      <td>Chidamber1994</td>\n      <td>1994</td>\n      <td>[S. Chidamber, C. Kemerer]</td>\n      <td>A Metrics Suite for Object Oriented Design</td>\n      <td>Given the central role that software developme...</td>\n    </tr>\n    <tr>\n      <th>1</th>\n      <td>Terra2015</td>\n      <td>2015</td>\n      <td>[Ricardo Terra, Marco Valente, Krzysztof Czarn...</td>\n      <td>A Recommendation System for Repairing Violatio...</td>\n      <td>This paper describes a recommendation system t...</td>\n    </tr>\n    <tr>\n      <th>0</th>\n      <td>Caracciolo2015</td>\n      <td>2015</td>\n      <td>[Andrea Caracciolo, Mircea Lungu, Oscar Nierst...</td>\n      <td>A Unified Approach to Architecture Conformance...</td>\n      <td>Software erosion can be controlled by periodic...</td>\n    </tr>\n    <tr>\n      <th>55</th>\n      <td>Lim2012</td>\n      <td>2012</td>\n      <td>[Erin Lim, Nitin Taksande, Carolyn Seaman]</td>\n      <td>A balancing act: what software practitioners h...</td>\n      <td>An interview study involving 35 practitioners ...</td>\n    </tr>\n    <tr>\n      <th>57</th>\n      <td>Guo2011</td>\n      <td>2011</td>\n      <td>[Yuepu Guo, Carolyn Seaman]</td>\n      <td>A portfolio approach to technical debt management</td>\n      <td>Technical debt describes the effect of immatur...</td>\n    </tr>\n    <tr>\n      <th>65</th>\n      <td>Li2015a</td>\n      <td>2015</td>\n      <td>[Zengyang Li, Paris Avgeriou, Peng Liang]</td>\n      <td>A systematic mapping study on technical debt a...</td>\n      <td>Context Technical debt (TD) is a metaphor refl...</td>\n    </tr>\n    <tr>\n      <th>24</th>\n      <td>Rios2018</td>\n      <td>2018</td>\n      <td>[Nicolli Rios, Manoel Mendon{\\c{c}}a Neto, Rod...</td>\n      <td>A tertiary study on technical debt: Types, man...</td>\n      <td>Context The concept of technical debt (TD) con...</td>\n    </tr>\n    <tr>\n      <th>102</th>\n      <td>basili1996validation</td>\n      <td>1996</td>\n      <td>[Victor Basili, Lionel Briand, Walc{\\'e}lio Melo]</td>\n      <td>A validation of object-oriented design metrics...</td>\n      <td>None</td>\n    </tr>\n    <tr>\n      <th>30</th>\n      <td>Klinger2011</td>\n      <td>2011</td>\n      <td>[Tim Klinger, Peri Tarr, Patrick Wagstrom, Cla...</td>\n      <td>An Enterprise Perspective on Technical Debt</td>\n      <td>Technical debt is a term that has been used to...</td>\n    </tr>\n  </tbody>\n</table>\n</div>"
     },
     "metadata": {},
     "execution_count": 22
    }
   ],
   "source": [
    "df_bib_sort_by_title = df_bib.sort_values('title')\n",
    "\n",
    "util.create_markdown_table(my_df=df_bib_sort_by_title, my_path='../../md', my_file_name='my_bib_extracted_sorted_by_title.md')\n",
    "\n",
    "df_bib_sort_by_title.head(10)"
   ]
  },
  {
   "cell_type": "code",
   "execution_count": null,
   "metadata": {},
   "outputs": [],
   "source": []
  }
 ]
}